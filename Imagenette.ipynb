{
 "cells": [
  {
   "cell_type": "code",
   "execution_count": 1,
   "metadata": {},
   "outputs": [],
   "source": [
    "%load_ext autoreload\n",
    "%autoreload 2\n",
    "%matplotlib inline"
   ]
  },
  {
   "cell_type": "code",
   "execution_count": 2,
   "metadata": {},
   "outputs": [],
   "source": [
    "from exp.nb_11 import *"
   ]
  },
  {
   "cell_type": "code",
   "execution_count": 3,
   "metadata": {},
   "outputs": [],
   "source": [
    "import fastai.datasets as datasets\n",
    "from functools import partial \n",
    "\n",
    "from dllib.vision.data import ImageList\n",
    "from dllib.vision.cnn import xresnet18\n",
    "from dllib.vision.transforms import ResizeFixed, ToByteTensor, MakeRGB\n",
    "from dllib.transforms import ToFloatTensor\n",
    "from dllib.data import SplitData, grandparent_splitter,\\\n",
    "    CategoryProcessor, label_by_func,\\\n",
    "    parent_labeler, get_dls, DataBunch\n",
    "from dllib.loss import LabelSmoothingCrossEntropy\n",
    "from dllib.optimization.optimizer import SGD\n",
    "from dllib.learner import Learner\n",
    "from dllib.vision.cnn import norm_imagenette\n",
    "from dllib.callbacks import ProgressCallback, Recorder,\\\n",
    "    CudaCallback, LRFind, AvgMetric,\\\n",
    "    BatchTransformCallBack"
   ]
  },
  {
   "cell_type": "code",
   "execution_count": 4,
   "metadata": {},
   "outputs": [],
   "source": [
    "path = datasets.untar_data(datasets.URLs.IMAGENETTE_160)"
   ]
  },
  {
   "cell_type": "code",
   "execution_count": 5,
   "metadata": {},
   "outputs": [],
   "source": [
    "transforms = [MakeRGB(), ResizeFixed((128,128)), ToByteTensor(), ToFloatTensor()]\n",
    "il = ImageList.from_files(path, extensions=\".JPEG\", transforms=transforms)\n",
    "\n",
    "sd = SplitData.split_by_func(il, partial(grandparent_splitter, valid_name=\"val\"))\n",
    "ll = label_by_func(sd, parent_labeler, proc_y=CategoryProcessor())\n",
    "train_dl, valid_dl = get_dls(ll.train, ll.valid, 64, num_workers=8)\n",
    "data = DataBunch(train_dl, valid_dl)"
   ]
  },
  {
   "cell_type": "code",
   "execution_count": 6,
   "metadata": {},
   "outputs": [],
   "source": [
    "loss_func = LabelSmoothingCrossEntropy()\n",
    "opt_func = SGD"
   ]
  },
  {
   "cell_type": "code",
   "execution_count": 7,
   "metadata": {},
   "outputs": [],
   "source": [
    "cbfs = [ProgressCallback, CudaCallback,\n",
    "        partial(BatchTransformCallBack, norm_imagenette), Recorder]\n",
    "\n",
    "learn = Learner(xresnet18(out_channels=10), data, loss_func, lr=1, cb_funcs=cbfs, metrics=AvgMetric(accuracy))"
   ]
  },
  {
   "cell_type": "code",
   "execution_count": 8,
   "metadata": {},
   "outputs": [
    {
     "data": {
      "text/html": [
       "\n",
       "    <div>\n",
       "        <style>\n",
       "            /* Turns off some styling */\n",
       "            progress {\n",
       "                /* gets rid of default border in Firefox and Opera. */\n",
       "                border: none;\n",
       "                /* Needs to be in here for Safari polyfill so background images work as expected. */\n",
       "                background-size: auto;\n",
       "            }\n",
       "            .progress-bar-interrupted, .progress-bar-interrupted::-webkit-progress-bar {\n",
       "                background: #F44336;\n",
       "            }\n",
       "        </style>\n",
       "      <progress value='0' class='' max='10', style='width:300px; height:20px; vertical-align: middle;'></progress>\n",
       "      \n",
       "    </div>\n",
       "    \n"
      ],
      "text/plain": [
       "<IPython.core.display.HTML object>"
      ]
     },
     "metadata": {},
     "output_type": "display_data"
    },
    {
     "data": {
      "text/html": [
       "<table border=\"1\" class=\"dataframe\">\n",
       "  <thead>\n",
       "    <tr style=\"text-align: left;\">\n",
       "      <th>epoch</th>\n",
       "      <th>train_loss</th>\n",
       "      <th>valid_loss</th>\n",
       "      <th>accuracy</th>\n",
       "      <th>time</th>\n",
       "    </tr>\n",
       "  </thead>\n",
       "  <tbody>\n",
       "    <tr>\n",
       "      <td>0</td>\n",
       "      <td>1.9724128246307373</td>\n",
       "      <td>2.167386531829834</td>\n",
       "      <td>0.27000001072883606</td>\n",
       "      <td>25.198466539382935</td>\n",
       "    </tr>\n",
       "    <tr>\n",
       "      <td>1</td>\n",
       "      <td>1.5170619487762451</td>\n",
       "      <td>2.1199257373809814</td>\n",
       "      <td>0.4320000112056732</td>\n",
       "      <td>25.325387716293335</td>\n",
       "    </tr>\n",
       "    <tr>\n",
       "      <td>2</td>\n",
       "      <td>1.2549843788146973</td>\n",
       "      <td>1.4207407236099243</td>\n",
       "      <td>0.612000048160553</td>\n",
       "      <td>25.45413589477539</td>\n",
       "    </tr>\n",
       "    <tr>\n",
       "      <td>3</td>\n",
       "      <td>1.1245217323303223</td>\n",
       "      <td>1.3048357963562012</td>\n",
       "      <td>0.6620000600814819</td>\n",
       "      <td>25.562013864517212</td>\n",
       "    </tr>\n",
       "    <tr>\n",
       "      <td>4</td>\n",
       "      <td>1.0208420753479004</td>\n",
       "      <td>1.2067289352416992</td>\n",
       "      <td>0.7040000557899475</td>\n",
       "      <td>25.584771394729614</td>\n",
       "    </tr>\n",
       "    <tr>\n",
       "      <td>5</td>\n",
       "      <td>0.9354430437088013</td>\n",
       "      <td>1.3091793060302734</td>\n",
       "      <td>0.6880000233650208</td>\n",
       "      <td>25.66143560409546</td>\n",
       "    </tr>\n",
       "    <tr>\n",
       "      <td>6</td>\n",
       "      <td>0.8428487777709961</td>\n",
       "      <td>1.268413782119751</td>\n",
       "      <td>0.6980000138282776</td>\n",
       "      <td>25.688166856765747</td>\n",
       "    </tr>\n",
       "    <tr>\n",
       "      <td>7</td>\n",
       "      <td>0.7540395259857178</td>\n",
       "      <td>1.5561327934265137</td>\n",
       "      <td>0.6180000305175781</td>\n",
       "      <td>25.695467233657837</td>\n",
       "    </tr>\n",
       "    <tr>\n",
       "      <td>8</td>\n",
       "      <td>0.6612198352813721</td>\n",
       "      <td>1.7117462158203125</td>\n",
       "      <td>0.6220000386238098</td>\n",
       "      <td>25.7141535282135</td>\n",
       "    </tr>\n",
       "    <tr>\n",
       "      <td>9</td>\n",
       "      <td>0.5929837822914124</td>\n",
       "      <td>1.0081110000610352</td>\n",
       "      <td>0.8040000200271606</td>\n",
       "      <td>25.745330810546875</td>\n",
       "    </tr>\n",
       "  </tbody>\n",
       "</table>"
      ],
      "text/plain": [
       "<IPython.core.display.HTML object>"
      ]
     },
     "metadata": {},
     "output_type": "display_data"
    }
   ],
   "source": [
    "learn.fit(10)"
   ]
  },
  {
   "cell_type": "code",
   "execution_count": 10,
   "metadata": {},
   "outputs": [
    {
     "data": {
      "image/png": "[encoded data removed]",
      "text/plain": [
       "<Figure size 432x288 with 1 Axes>"
      ]
     },
     "metadata": {
      "needs_background": "light"
     },
     "output_type": "display_data"
    }
   ],
   "source": [
    "learn.recorder.plot_loss()"
   ]
  },
  {
   "cell_type": "code",
   "execution_count": null,
   "metadata": {},
   "outputs": [],
   "source": []
  }
 ],
 "metadata": {
  "kernelspec": {
   "display_name": "Python 3",
   "language": "python",
   "name": "python3"
  },
  "language_info": {
   "codemirror_mode": {
    "name": "ipython",
    "version": 3
   },
   "file_extension": ".py",
   "mimetype": "text/x-python",
   "name": "python",
   "nbconvert_exporter": "python",
   "pygments_lexer": "ipython3",
   "version": "3.7.4"
  }
 },
 "nbformat": 4,
 "nbformat_minor": 2
}
